{
 "cells": [
  {
   "cell_type": "code",
   "execution_count": 51,
   "metadata": {},
   "outputs": [],
   "source": [
    "import pandas as pd\n",
    "import numpy as np\n",
    "import datetime as dt\n",
    "import statsmodels.api as sm"
   ]
  },
  {
   "cell_type": "code",
   "execution_count": 52,
   "metadata": {},
   "outputs": [],
   "source": [
    "df = pd.read_csv('./DI_250d_1h.csv')"
   ]
  },
  {
   "cell_type": "code",
   "execution_count": 53,
   "metadata": {},
   "outputs": [],
   "source": [
    "df[\"Time\"] = df[\"Time\"].round(3)"
   ]
  },
  {
   "cell_type": "code",
   "execution_count": 54,
   "metadata": {},
   "outputs": [],
   "source": [
    "df[\"Datetime\"] = pd.TimedeltaIndex(df['Date'], unit='d') + dt.datetime(1899, 12, 30)"
   ]
  },
  {
   "cell_type": "code",
   "execution_count": 55,
   "metadata": {},
   "outputs": [],
   "source": [
    "df['VolatilityHour'] =  df['Last'].shift(1) - df['Last']\n",
    "df['VolatilityHour'] = df['VolatilityHour'].apply(lambda x: abs(x))"
   ]
  },
  {
   "cell_type": "code",
   "execution_count": 56,
   "metadata": {},
   "outputs": [],
   "source": [
    "# Dummies hours\n",
    "df['D9'] = np.where(df['Time'] == 0.375, 1, 0)\n",
    "df['D10'] = np.where(df['Time'] == 0.417, 1, 0)\n",
    "df['D11'] = np.where(df['Time'] == 0.458, 1, 0)\n",
    "df['D12'] = np.where(df['Time'] == 0.500, 1, 0)\n",
    "df['D13'] = np.where(df['Time'] == 0.542, 1, 0)\n",
    "df['D14'] = np.where(df['Time'] == 0.583, 1, 0)\n",
    "df['D15'] = np.where(df['Time'] == 0.625, 1, 0)\n",
    "df['D16'] = np.where(df['Time'] == 0.667, 1, 0)\n",
    "# df['D17'] = np.where(df['Time'] == 0.708, 1, 0)\n",
    "# df['D18'] = np.where(df['Time'] == 0.750, 1, 0)"
   ]
  },
  {
   "cell_type": "code",
   "execution_count": 57,
   "metadata": {},
   "outputs": [],
   "source": [
    "df.drop(['Open', 'High', 'Low', 'Last', 'Volume', 'AvePrice', 'HighBid', 'LowBid', 'CloseBid', 'OpenAsk', 'OpenBid', 'HighAsk', 'LowAsk', 'CloseAsk', 'VWAP', 'Date', 'NoTrades', 'Unnamed: 3'], axis=1, inplace=True)"
   ]
  },
  {
   "cell_type": "code",
   "execution_count": 58,
   "metadata": {},
   "outputs": [],
   "source": [
    "df.index = df['Datetime']"
   ]
  },
  {
   "cell_type": "code",
   "execution_count": 59,
   "metadata": {},
   "outputs": [],
   "source": [
    "\n",
    "\n",
    "copom = pd.DataFrame({'Date':['18/1/2006', '8/3/2006', '19/4/2006', '31/5/2006', '19/7/2006', '30/8/2006', '17/10/2006', '29/11/2006', '24/01/2007', '7/3/2007', '18/4/2007', '06/06/2007', '18/07/2007', '5/9/2007', '17/10/2007', '5/12/2007', '23/1/2008', '05/03/2008', '16/4/2008', '4/6/2008', '23/7/2008', '10/9/2008', '29/10/2008', '10/12/2008', '21/1/2009', '11/3/2009', '29/4/2009', '10/6/2009', '22/7/2019', '2/9/2009', '21/10/2009', '09/12/2009', '27/1/2010', '17/3/2010', '28/4/2010', '9/6/2010', '21/7/2010', '1/9/2010', '20/10/2010', '8/12/2010', '19/1/2011', '2/3/2011', '20/4/2011', '8/6/2011', '20/7/2011', '31/8/2011', '19/10/2011', '30/11/2011', '18/1/2012', '7/3/2012', '18/4/2012', '30/5/2012', '11/7/2012', '29/8/2012', '10/10/2012', '28/11/2018', '16/1/2013', '6/3/2013', '17/4/2013', '29/5/2013', '10/7/2013', '28/8/2013', '9/10/2013', '27/11/2013', '15/1/2014', '26/2/2014', '2/4/2014', '28/5/2014', '16/7/2014', '3/9/2014', '29/10/2014', '3/12/2014', '21/1/2015', '4/3/2015', '29/4/2015', '3/6/2015', \n",
    "'29/7/2015', '2/9/2015', '21/10/2015', '25/11/2015', '20/01/2016', '02/03/2016', '27/4/2016', '8/6/2016', '20/7/2016', '31/8/2016', '19/10/2016', '30/11/2016', '11/01/2017', '22/2/2017', '12/4/2017', '31/5/2017', '26/7/2017', '6/9/2017', '25/10/2017', '6/12/2017', '7/2/2018', '21/3/2018', '16/5/2018', '20/6/2018', '1/8/2018', '19/9/2018', '31/10/2018', '12/12/2018', '6/2/2010', '20/3/2019', '8/5/2019'], \n",
    "                    \n",
    "'Dif':['0,75', '0,75', '0,75', '0,5', '0,5', '0,5', '0,5', '0,5', '0,25', '0,25', '0,25', '0,5', '0,5', '0,25', '0', '0', '0', '0', '0,5', '0,5', '0,75', '0,75', '0', '0', '1', '1,5', '1', '1', '0,5', '0', '0', '0', '0', '0', '0,75', '0,75', '0,5', '0', '0', '0', '0,5', '0,5', '0,25', '0,25', '0,25', '0,5', '0,5', '0,5', '0,5', '0,75', '0,75', '0,5', '0,5', '0,5', '0,25', '0', '0', '0', '0,25', '0,5', '0,5', '0,5', '0,5', '0,5', '0,5', '0,25', '0,25', '0', '0', '0', '0,25', '0,5', '0,5', '0,5', '0,5', '0,5', '0,5', '0', '0', '0', '0', '0', '0', '0', '0', '0', '0,25', '0,25', '0,75', '0,75', '1', '1', '1', '1', '0,75', '0,5', '0,25', '0,25', '0', '0', '0', '0', '0', '0', '0', '0', '0' ]})\n",
    "\n",
    "copom[\"Datetime\"] = pd.to_datetime(copom['Date'], format='%d/%m/%Y')\n",
    "\n",
    "copom.index = copom['Datetime']"
   ]
  },
  {
   "cell_type": "code",
   "execution_count": 60,
   "metadata": {},
   "outputs": [],
   "source": [
    "copom_dates = copom.index & df.index\n",
    "dates = list(dict.fromkeys(copom_dates))"
   ]
  },
  {
   "cell_type": "code",
   "execution_count": 61,
   "metadata": {},
   "outputs": [],
   "source": [
    "dates_1 = []\n",
    "dates_2 = []\n",
    "dates_3 = []\n",
    "\n",
    "for i in range (0, len(dates)):\n",
    "    dates_1.append(dates[i] + dt.timedelta(days=1))\n",
    "    dates_2.append(dates[i] + dt.timedelta(days=2))\n",
    "    dates_3.append(dates[i] + dt.timedelta(days=3))\n"
   ]
  },
  {
   "cell_type": "code",
   "execution_count": 62,
   "metadata": {},
   "outputs": [],
   "source": [
    "df[\"DCopom\"] = df['Datetime'].isin(dates_1)\n",
    "df[\"DCopom2\"] = df['Datetime'].isin(dates_2)\n",
    "df[\"DCopom3\"] = df['Datetime'].isin(dates_3)\n",
    "\n",
    "df[\"DCopom\"].replace(False, 0, inplace=True)\n",
    "df[\"DCopom\"].replace(True, 1, inplace=True)\n",
    "\n",
    "df[\"DCopom2\"].replace(False, 0, inplace=True)\n",
    "df[\"DCopom2\"].replace(True, 1, inplace=True)\n",
    "\n",
    "df[\"DCopom3\"].replace(False, 0, inplace=True)\n",
    "df[\"DCopom3\"].replace(True, 1, inplace=True)"
   ]
  },
  {
   "cell_type": "code",
   "execution_count": 63,
   "metadata": {},
   "outputs": [],
   "source": [
    "df = df.dropna()"
   ]
  },
  {
   "cell_type": "code",
   "execution_count": 64,
   "metadata": {},
   "outputs": [
    {
     "data": {
      "text/html": [
       "<table class=\"simpletable\">\n",
       "<caption>OLS Regression Results</caption>\n",
       "<tr>\n",
       "  <th>Dep. Variable:</th>     <td>VolatilityHour</td>  <th>  R-squared:         </th>  <td>   0.073</td> \n",
       "</tr>\n",
       "<tr>\n",
       "  <th>Model:</th>                   <td>OLS</td>       <th>  Adj. R-squared:    </th>  <td>   0.073</td> \n",
       "</tr>\n",
       "<tr>\n",
       "  <th>Method:</th>             <td>Least Squares</td>  <th>  F-statistic:       </th>  <td>   211.9</td> \n",
       "</tr>\n",
       "<tr>\n",
       "  <th>Date:</th>             <td>Mon, 18 May 2020</td> <th>  Prob (F-statistic):</th>   <td>  0.00</td>  \n",
       "</tr>\n",
       "<tr>\n",
       "  <th>Time:</th>                 <td>18:44:07</td>     <th>  Log-Likelihood:    </th>  <td>  70405.</td> \n",
       "</tr>\n",
       "<tr>\n",
       "  <th>No. Observations:</th>      <td> 29545</td>      <th>  AIC:               </th> <td>-1.408e+05</td>\n",
       "</tr>\n",
       "<tr>\n",
       "  <th>Df Residuals:</th>          <td> 29533</td>      <th>  BIC:               </th> <td>-1.407e+05</td>\n",
       "</tr>\n",
       "<tr>\n",
       "  <th>Df Model:</th>              <td>    11</td>      <th>                     </th>      <td> </td>    \n",
       "</tr>\n",
       "<tr>\n",
       "  <th>Covariance Type:</th>      <td>nonrobust</td>    <th>                     </th>      <td> </td>    \n",
       "</tr>\n",
       "</table>\n",
       "<table class=\"simpletable\">\n",
       "<tr>\n",
       "     <td></td>        <th>coef</th>     <th>std err</th>      <th>t</th>      <th>P>|t|</th>  <th>[0.025</th>    <th>0.975]</th>  \n",
       "</tr>\n",
       "<tr>\n",
       "  <th>const</th>   <td>    0.0099</td> <td>    0.000</td> <td>   25.845</td> <td> 0.000</td> <td>    0.009</td> <td>    0.011</td>\n",
       "</tr>\n",
       "<tr>\n",
       "  <th>D9</th>      <td>    0.0197</td> <td>    0.001</td> <td>   36.044</td> <td> 0.000</td> <td>    0.019</td> <td>    0.021</td>\n",
       "</tr>\n",
       "<tr>\n",
       "  <th>D10</th>     <td>    0.0037</td> <td>    0.001</td> <td>    6.765</td> <td> 0.000</td> <td>    0.003</td> <td>    0.005</td>\n",
       "</tr>\n",
       "<tr>\n",
       "  <th>D11</th>     <td>    0.0020</td> <td>    0.001</td> <td>    3.677</td> <td> 0.000</td> <td>    0.001</td> <td>    0.003</td>\n",
       "</tr>\n",
       "<tr>\n",
       "  <th>D12</th>     <td>    0.0009</td> <td>    0.001</td> <td>    1.598</td> <td> 0.110</td> <td>   -0.000</td> <td>    0.002</td>\n",
       "</tr>\n",
       "<tr>\n",
       "  <th>D13</th>     <td>   -0.0016</td> <td>    0.001</td> <td>   -2.920</td> <td> 0.004</td> <td>   -0.003</td> <td>   -0.001</td>\n",
       "</tr>\n",
       "<tr>\n",
       "  <th>D14</th>     <td>    0.0005</td> <td>    0.001</td> <td>    0.928</td> <td> 0.353</td> <td>   -0.001</td> <td>    0.002</td>\n",
       "</tr>\n",
       "<tr>\n",
       "  <th>D15</th>     <td>    0.0032</td> <td>    0.001</td> <td>    5.898</td> <td> 0.000</td> <td>    0.002</td> <td>    0.004</td>\n",
       "</tr>\n",
       "<tr>\n",
       "  <th>D16</th>     <td>   -0.0014</td> <td>    0.001</td> <td>   -2.575</td> <td> 0.010</td> <td>   -0.002</td> <td>   -0.000</td>\n",
       "</tr>\n",
       "<tr>\n",
       "  <th>DCopom</th>  <td>    0.0075</td> <td>    0.001</td> <td>    9.768</td> <td> 0.000</td> <td>    0.006</td> <td>    0.009</td>\n",
       "</tr>\n",
       "<tr>\n",
       "  <th>DCopom2</th> <td>    0.0015</td> <td>    0.001</td> <td>    1.870</td> <td> 0.062</td> <td>-7.06e-05</td> <td>    0.003</td>\n",
       "</tr>\n",
       "<tr>\n",
       "  <th>DCopom3</th> <td>   -0.0058</td> <td>    0.008</td> <td>   -0.732</td> <td> 0.464</td> <td>   -0.021</td> <td>    0.010</td>\n",
       "</tr>\n",
       "</table>\n",
       "<table class=\"simpletable\">\n",
       "<tr>\n",
       "  <th>Omnibus:</th>       <td>55464.769</td> <th>  Durbin-Watson:     </th>   <td>   1.405</td>   \n",
       "</tr>\n",
       "<tr>\n",
       "  <th>Prob(Omnibus):</th>  <td> 0.000</td>   <th>  Jarque-Bera (JB):  </th> <td>217336076.620</td>\n",
       "</tr>\n",
       "<tr>\n",
       "  <th>Skew:</th>           <td>14.005</td>   <th>  Prob(JB):          </th>   <td>    0.00</td>   \n",
       "</tr>\n",
       "<tr>\n",
       "  <th>Kurtosis:</th>       <td>422.240</td>  <th>  Cond. No.          </th>   <td>    63.8</td>   \n",
       "</tr>\n",
       "</table><br/><br/>Warnings:<br/>[1] Standard Errors assume that the covariance matrix of the errors is correctly specified."
      ],
      "text/plain": [
       "<class 'statsmodels.iolib.summary.Summary'>\n",
       "\"\"\"\n",
       "                            OLS Regression Results                            \n",
       "==============================================================================\n",
       "Dep. Variable:         VolatilityHour   R-squared:                       0.073\n",
       "Model:                            OLS   Adj. R-squared:                  0.073\n",
       "Method:                 Least Squares   F-statistic:                     211.9\n",
       "Date:                Mon, 18 May 2020   Prob (F-statistic):               0.00\n",
       "Time:                        18:44:07   Log-Likelihood:                 70405.\n",
       "No. Observations:               29545   AIC:                        -1.408e+05\n",
       "Df Residuals:                   29533   BIC:                        -1.407e+05\n",
       "Df Model:                          11                                         \n",
       "Covariance Type:            nonrobust                                         \n",
       "==============================================================================\n",
       "                 coef    std err          t      P>|t|      [0.025      0.975]\n",
       "------------------------------------------------------------------------------\n",
       "const          0.0099      0.000     25.845      0.000       0.009       0.011\n",
       "D9             0.0197      0.001     36.044      0.000       0.019       0.021\n",
       "D10            0.0037      0.001      6.765      0.000       0.003       0.005\n",
       "D11            0.0020      0.001      3.677      0.000       0.001       0.003\n",
       "D12            0.0009      0.001      1.598      0.110      -0.000       0.002\n",
       "D13           -0.0016      0.001     -2.920      0.004      -0.003      -0.001\n",
       "D14            0.0005      0.001      0.928      0.353      -0.001       0.002\n",
       "D15            0.0032      0.001      5.898      0.000       0.002       0.004\n",
       "D16           -0.0014      0.001     -2.575      0.010      -0.002      -0.000\n",
       "DCopom         0.0075      0.001      9.768      0.000       0.006       0.009\n",
       "DCopom2        0.0015      0.001      1.870      0.062   -7.06e-05       0.003\n",
       "DCopom3       -0.0058      0.008     -0.732      0.464      -0.021       0.010\n",
       "==============================================================================\n",
       "Omnibus:                    55464.769   Durbin-Watson:                   1.405\n",
       "Prob(Omnibus):                  0.000   Jarque-Bera (JB):        217336076.620\n",
       "Skew:                          14.005   Prob(JB):                         0.00\n",
       "Kurtosis:                     422.240   Cond. No.                         63.8\n",
       "==============================================================================\n",
       "\n",
       "Warnings:\n",
       "[1] Standard Errors assume that the covariance matrix of the errors is correctly specified.\n",
       "\"\"\""
      ]
     },
     "execution_count": 64,
     "metadata": {},
     "output_type": "execute_result"
    }
   ],
   "source": [
    "X = df[['D9','D10', \"D11\", \"D12\", \"D13\", \"D14\", \"D15\", \"D16\", \"DCopom\",  \"DCopom2\",  \"DCopom3\"]]\n",
    "Y = df['VolatilityHour']\n",
    "\n",
    "X = sm.add_constant(X)\n",
    "model = sm.OLS(Y,X)\n",
    "results = model.fit()\n",
    "results.summary()"
   ]
  }
 ],
 "metadata": {
  "kernelspec": {
   "display_name": "Python 3",
   "language": "python",
   "name": "python3"
  },
  "language_info": {
   "codemirror_mode": {
    "name": "ipython",
    "version": 3
   },
   "file_extension": ".py",
   "mimetype": "text/x-python",
   "name": "python",
   "nbconvert_exporter": "python",
   "pygments_lexer": "ipython3",
   "version": "3.6.9"
  }
 },
 "nbformat": 4,
 "nbformat_minor": 2
}
